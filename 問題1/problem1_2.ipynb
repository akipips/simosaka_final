{
  "nbformat": 4,
  "nbformat_minor": 0,
  "metadata": {
    "colab": {
      "name": "problem1_2.ipynb",
      "provenance": [],
      "authorship_tag": "ABX9TyPXwpppN329kmNt8bpDH/Tt",
      "include_colab_link": true
    },
    "kernelspec": {
      "name": "python3",
      "display_name": "Python 3"
    }
  },
  "cells": [
    {
      "cell_type": "markdown",
      "metadata": {
        "id": "view-in-github",
        "colab_type": "text"
      },
      "source": [
        "<a href=\"https://colab.research.google.com/github/akipips/simosaka_final/blob/master/%E5%95%8F%E9%A1%8C1/problem1_2.ipynb\" target=\"_parent\"><img src=\"https://colab.research.google.com/assets/colab-badge.svg\" alt=\"Open In Colab\"/></a>"
      ]
    },
    {
      "cell_type": "code",
      "metadata": {
        "id": "SOsty_Ky-pcR",
        "colab_type": "code",
        "colab": {}
      },
      "source": [
        "import numpy as np\n",
        "import matplotlib.pyplot as plt"
      ],
      "execution_count": 10,
      "outputs": []
    },
    {
      "cell_type": "code",
      "metadata": {
        "id": "6a1SsrBVAHDJ",
        "colab_type": "code",
        "colab": {}
      },
      "source": [
        "#dataset5\n",
        "\n",
        "n = 200\n",
        "x = 3 * (np.random.rand(n, 4) - 0.5)\n",
        "x = np.hstack([x, np.ones((n, 1))])\n",
        "W = np.array([[2, -1, 0.5], [-3, 2, 1], [1, 2, 3]])\n",
        "x_with_error = np.dot(np.hstack([x[:, 0:2].reshape((n, 2)), np.ones((n, 1))]), W.T) + 0.5 * np.random.randn(n, 3)\n",
        "maxlogit, y = x_with_error.max(axis=1), x_with_error.argmax(axis=1)"
      ],
      "execution_count": 11,
      "outputs": []
    },
    {
      "cell_type": "markdown",
      "metadata": {
        "id": "OyGaejcQxhkL",
        "colab_type": "text"
      },
      "source": [
        "steepest gradient method"
      ]
    },
    {
      "cell_type": "code",
      "metadata": {
        "id": "CqokxfQkAO1l",
        "colab_type": "code",
        "colab": {
          "base_uri": "https://localhost:8080/",
          "height": 1000
        },
        "outputId": "1340d8b8-e93f-4de1-8755-e355db463b05"
      },
      "source": [
        "dim = 5\n",
        "lam = 2\n",
        "alpha = 0.04\n",
        "class_num = 3\n",
        "w = np.ones((dim, 3))\n",
        "stop=1e-6\n",
        "\n",
        "arr_sgm = []\n",
        "step = 0\n",
        "while 1:\n",
        "    grad = np.zeros_like(w)\n",
        "    wTw = lam * np.trace(np.dot(w.T, w))\n",
        "    L = 0\n",
        "    for i in range(n):\n",
        "        yi = y[i].reshape((1, 1))\n",
        "        xi = x[i].reshape((dim, 1))\n",
        "        c = np.max(np.dot(w.T, xi))  \n",
        "        exps = np.exp(np.dot(w.T, xi) - c)\n",
        "        softmax = exps / np.sum(exps)\n",
        "        for j in range(class_num):\n",
        "            if j == yi:\n",
        "                grad[:, yi] += ((softmax[yi] - 1).reshape((1, 1)) * xi).reshape((5, 1, 1))\n",
        "            else:\n",
        "                grad[:, j] += (softmax[j].reshape((1, 1)) * xi).reshape((5,))\n",
        "        L -= (np.log(softmax[yi]))\n",
        "    grad /= n\n",
        "    grad += 2 * lam * w\n",
        "    L /= n\n",
        "    wTw += L\n",
        "    arr_sgm.append(wTw.item())\n",
        "    print(str(step).rjust(4) + \": \" + str(np.linalg.norm(grad)).ljust(22) + \" \" + str(wTw.item()))\n",
        "    if (np.linalg.norm(grad) < stop):\n",
        "        break\n",
        "    w -= alpha * grad\n",
        "    step += 1\n",
        "\n",
        "print(\"step:\" + str(step))\n",
        "print(w)\n"
      ],
      "execution_count": 12,
      "outputs": [
        {
          "output_type": "stream",
          "text": [
            "   0: 15.501873780140587     31.098612288668107\n",
            "   1: 13.02135246654659      22.255343667306843\n",
            "   2: 10.937754622635081     16.015744412696975\n",
            "   3: 9.187565347406574      11.613228397798142\n",
            "   4: 7.7174333582870895     8.506912941553251\n",
            "   5: 6.482544615800757      6.315165371232316\n",
            "   6: 5.445256192294318      4.768715424758514\n",
            "   7: 4.573948746127591      3.6775727195116374\n",
            "   8: 3.8420626228576933     2.9076846605634916\n",
            "   9: 3.227288200617895      2.3644669126353195\n",
            "  10: 2.7108857978985217     1.9811829511547163\n",
            "  11: 2.2771144111115973     1.7107449836817843\n",
            "  12: 1.912751866779497      1.5199288936366193\n",
            "  13: 1.606691759908205      1.3852924515126368\n",
            "  14: 1.3496048909552847     1.2902953057174855\n",
            "  15: 1.1336548800958781     1.2232669175247985\n",
            "  16: 0.9522592891456869     1.1759727836632115\n",
            "  17: 0.7998889688572706     1.1426027957279654\n",
            "  18: 0.6718995146540996     1.1190574490733114\n",
            "  19: 0.5643896927300737     1.1024442072501326\n",
            "  20: 0.4740825206618712     1.0907221473556483\n",
            "  21: 0.3982253773241407     1.0824512290708643\n",
            "  22: 0.33450609701888157    1.0766153838899901\n",
            "  23: 0.28098249001682746    1.0724976903106171\n",
            "  24: 0.23602314101640523    1.069592299802296\n",
            "  25: 0.1982576808337164     1.0675422933860403\n",
            "  26: 0.16653501542681734    1.0660958343461449\n",
            "  27: 0.1398882389338025     1.0650752303450728\n",
            "  28: 0.11750516116228153    1.0643551041743893\n",
            "  29: 0.09870355111977318    1.0638469913953637\n",
            "  30: 0.08291034193815551    1.0634884726804605\n",
            "  31: 0.06964416330348568    1.0632355057625171\n",
            "  32: 0.058500668936693055   1.0630570149741274\n",
            "  33: 0.049140211873170685   1.0629310737062745\n",
            "  34: 0.04127749185762788    1.0628422108058224\n",
            "  35: 0.03467285928649503    1.062779510007118\n",
            "  36: 0.029125010626360054   1.062735268916696\n",
            "  37: 0.02446485265273215    1.0627040528105658\n",
            "  38: 0.02055034848192006    1.0626820270057327\n",
            "  39: 0.017262188296078354   1.0626664857898684\n",
            "  40: 0.014500152799860399   1.062655520039815\n",
            "  41: 0.012180058562913315   1.0626477826971221\n",
            "  42: 0.010231192139362709   1.062642323290296\n",
            "  43: 0.008594154754159797   1.0626384711755377\n",
            "  44: 0.007219051860838446   1.0626357531526849\n",
            "  45: 0.00606397238737786    1.0626338353358975\n",
            "  46: 0.005093711316902385   1.0626324821382012\n",
            "  47: 0.004278696667052644   1.0626315273314033\n",
            "  48: 0.003594088162123587   1.0626308536262488\n",
            "  49: 0.003019020125395987   1.0626303782643711\n",
            "  50: 0.0025359655150169504  1.0626300428521065\n",
            "  51: 0.0021302017193051866  1.0626298061873256\n",
            "  52: 0.0017893618290320643  1.0626296391981078\n",
            "  53: 0.001503057709585605   1.0626295213715127\n",
            "  54: 0.0012625633844106344  1.0626294382337516\n",
            "  55: 0.001060549079402798   1.0626293795722173\n",
            "  56: 0.0008908578220835292  1.0626293381809624\n",
            "  57: 0.0007483177864465714  1.0626293089755139\n",
            "  58: 0.0006285846638874814  1.0626292883683028\n",
            "  59: 0.0005280092558141633  1.0626292738279577\n",
            "  60: 0.00044352625227937043 1.062629263568364\n",
            "  61: 0.00037256080671911677 1.062629256329243\n",
            "  62: 0.000312950059295791   1.0626292512213547\n",
            "  63: 0.0002628772169652202  1.0626292476172503\n",
            "  64: 0.0002208161811073382  1.0626292450742107\n",
            "  65: 0.00018548503504427005 1.0626292432798534\n",
            "  66: 0.00015580697380524353 1.062629242013762\n",
            "  67: 0.00013087748533518266 1.0626292411204132\n",
            "  68: 0.00010993678287591051 1.0626292404900697\n",
            "  69: 9.234664830570797e-05  1.0626292400453026\n",
            "  70: 7.757098065422713e-05  1.0626292397314763\n",
            "  71: 6.515945694867113e-05  1.0626292395100407\n",
            "  72: 5.473380739710388e-05  1.062629239353798\n",
            "  73: 4.597628660680071e-05  1.0626292392435526\n",
            "  74: 3.861998945401018e-05  1.0626292391657641\n",
            "  75: 3.2440716459332957e-05 1.0626292391108765\n",
            "  76: 2.7250140732658215e-05 1.0626292390721488\n",
            "  77: 2.289006823771786e-05  1.062629239044822\n",
            "  78: 1.922761643430906e-05  1.0626292390255403\n",
            "  79: 1.615116435684919e-05  1.0626292390119354\n",
            "  80: 1.3566950695899964e-05 1.0626292390023353\n",
            "  81: 1.1396216197474112e-05 1.0626292389955623\n",
            "  82: 9.57280329031e-06      1.0626292389907828\n",
            "  83: 8.041139778769635e-06  1.0626292389874106\n",
            "  84: 6.754545154079353e-06  1.0626292389850318\n",
            "  85: 5.6738078981993995e-06 1.0626292389833518\n",
            "  86: 4.765990427052028e-06  1.062629238982168\n",
            "  87: 4.003425243188299e-06  1.0626292389813317\n",
            "  88: 3.3628717094815456e-06 1.0626292389807417\n",
            "  89: 2.8248077398098358e-06 1.0626292389803254\n",
            "  90: 2.372834822355166e-06  1.0626292389800316\n",
            "  91: 1.99317824029224e-06   1.062629238979825\n",
            "  92: 1.6742672583150463e-06 1.0626292389796788\n",
            "  93: 1.4063824811710226e-06 1.062629238979575\n",
            "  94: 1.1813596345668403e-06 1.0626292389795031\n",
            "  95: 9.92340742984455e-07   1.0626292389794507\n",
            "step:95\n",
            "[[ 0.03164494 -0.0825008   0.05085606]\n",
            " [-0.0430116  -0.00413546  0.04714725]\n",
            " [ 0.00068549 -0.00054842 -0.00013687]\n",
            " [-0.00551559  0.00425686  0.00125892]\n",
            " [-0.03737783  0.0092738   0.02810423]]\n"
          ],
          "name": "stdout"
        }
      ]
    },
    {
      "cell_type": "markdown",
      "metadata": {
        "id": "xKNufpLQ2ish",
        "colab_type": "text"
      },
      "source": [
        "newton method "
      ]
    },
    {
      "cell_type": "code",
      "metadata": {
        "id": "S9GX1RlcyWn0",
        "colab_type": "code",
        "colab": {
          "base_uri": "https://localhost:8080/",
          "height": 251
        },
        "outputId": "f9e574e8-8dd7-4ef6-cea1-1a1c0bc6f27e"
      },
      "source": [
        "w = np.ones((dim, 3))\n",
        "step = 0\n",
        "arr_newton = []\n",
        "while 1:\n",
        "    hessian = [np.zeros((5, 5)), np.zeros((5, 5)), np.zeros((5, 5))]\n",
        "    grad = np.zeros_like(w)\n",
        "    wTw = lam * np.trace(np.dot(w.T, w))\n",
        "    L = 0\n",
        "    for i in range(n):\n",
        "        yi = y[i].reshape((1, 1))\n",
        "        xi = x[i].reshape((5, 1))\n",
        "        c = np.max(np.dot(w.T, xi))  \n",
        "        exps = np.exp(np.dot(w.T, xi) - c)\n",
        "        softmax = exps / np.sum(exps)\n",
        "        for j in range(class_num):\n",
        "            if (j == yi):\n",
        "                grad[:, yi] += ((softmax[yi] - 1).reshape((1, 1)) * xi).reshape((5, 1, 1))\n",
        "            else:\n",
        "                grad[:, j] += (softmax[j].reshape((1, 1)) * xi).reshape((5,))\n",
        "            hessian[j] += (1 - softmax[j]) * softmax[j] * np.dot(xi, xi.T)\n",
        "        L -= (np.log(softmax[yi]))\n",
        "    for j in range(class_num):\n",
        "        hessian[j] /= n\n",
        "        hessian[j] += 2 * lam * np.eye(5)\n",
        "    grad /= n\n",
        "    grad += 2 * lam * w\n",
        "    L /= n\n",
        "    wTw += L\n",
        "    arr_newton.append(wTw.item())\n",
        "    print(str(step).rjust(4) + \": \" + str(np.linalg.norm(grad)).ljust(22) + \" \" + str(wTw.item()))\n",
        "    if (np.linalg.norm(grad) < stop):\n",
        "        break\n",
        "  \n",
        "    for j in range(class_num):\n",
        "        d = np.dot(np.linalg.inv(hessian[j]), grad[:, j])\n",
        "        w[:, j] -= d\n",
        "    step += 1\n",
        "\n",
        "print(\"step:\" + str(step))\n",
        "print(w)\n"
      ],
      "execution_count": 13,
      "outputs": [
        {
          "output_type": "stream",
          "text": [
            "   0: 15.501873780140587     31.098612288668107\n",
            "   1: 0.6666918414208465     1.1181875810503548\n",
            "   2: 0.030507202902641174   1.0627455701053814\n",
            "   3: 0.0014710918443289502  1.0626295094849234\n",
            "   4: 7.365255438689726e-05  1.0626292396573915\n",
            "   5: 3.7815846869452863e-06 1.0626292389811154\n",
            "   6: 1.9740102024714362e-07 1.062629238979333\n",
            "step:6\n",
            "[[ 0.03164487 -0.08250087  0.050856  ]\n",
            " [-0.04301166 -0.00413551  0.04714719]\n",
            " [ 0.00068543 -0.00054848 -0.00013693]\n",
            " [-0.00551565  0.0042568   0.00125886]\n",
            " [-0.03737787  0.00927376  0.02810419]]\n"
          ],
          "name": "stdout"
        }
      ]
    },
    {
      "cell_type": "code",
      "metadata": {
        "id": "iSTFqn3E3C8t",
        "colab_type": "code",
        "colab": {
          "base_uri": "https://localhost:8080/",
          "height": 297
        },
        "outputId": "fd677ae1-c36c-485b-e9d7-c15a5fa1fdeb"
      },
      "source": [
        "plt.yscale('log')\n",
        "plt.xlabel('t')\n",
        "plt.ylabel('|J(w(t) ) − J(wˆ)| ')\n",
        "\n",
        "tmp1 = arr_sgm[len(arr_sgm)-1]\n",
        "arr_sgm -= tmp1*np.ones((len(arr_sgm)))\n",
        "arr_sgm = np.delete(arr_sgm,len(arr_sgm)-1)\n",
        "plt.plot(np.arange(0, len(arr_sgm), 1), arr_sgm,marker=\"o\",label=\"steepest gradient method\")\n",
        "\n",
        "tmp2 = arr_newton[len(arr_newton)-1]\n",
        "arr_newton -= tmp2*np.ones((len(arr_newton)))\n",
        "arr_newton = np.delete(arr_newton,len(arr_newton)-1)\n",
        "plt.plot(np.arange(0, len(arr_newton), 1), arr_newton,marker=\"o\",label=\"newton method\")\n",
        "plt.xlim(0, 90)\n",
        "plt.legend()"
      ],
      "execution_count": 14,
      "outputs": [
        {
          "output_type": "execute_result",
          "data": {
            "text/plain": [
              "<matplotlib.legend.Legend at 0x7f1ea9c2ff28>"
            ]
          },
          "metadata": {
            "tags": []
          },
          "execution_count": 14
        },
        {
          "output_type": "display_data",
          "data": {
            "image/png": "[encoded data removed]",
            "text/plain": [
              "<Figure size 432x288 with 1 Axes>"
            ]
          },
          "metadata": {
            "tags": [],
            "needs_background": "light"
          }
        }
      ]
    },
    {
      "cell_type": "code",
      "metadata": {
        "id": "nk6ur9Uj3YNl",
        "colab_type": "code",
        "colab": {}
      },
      "source": [
        ""
      ],
      "execution_count": 14,
      "outputs": []
    }
  ]
}