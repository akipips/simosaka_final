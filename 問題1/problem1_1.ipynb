{
  "nbformat": 4,
  "nbformat_minor": 0,
  "metadata": {
    "colab": {
      "name": "problem1_1.ipynb",
      "provenance": [],
      "authorship_tag": "ABX9TyNZh8OEzoX9Q9ky0sGrKM18",
      "include_colab_link": true
    },
    "kernelspec": {
      "name": "python3",
      "display_name": "Python 3"
    }
  },
  "cells": [
    {
      "cell_type": "markdown",
      "metadata": {
        "id": "view-in-github",
        "colab_type": "text"
      },
      "source": [
        "<a href=\"https://colab.research.google.com/github/akipips/simosaka_final/blob/master/%E5%95%8F%E9%A1%8C1/problem1_1.ipynb\" target=\"_parent\"><img src=\"https://colab.research.google.com/assets/colab-badge.svg\" alt=\"Open In Colab\"/></a>"
      ]
    },
    {
      "cell_type": "code",
      "metadata": {
        "id": "CE2JZICh-m_t",
        "colab_type": "code",
        "colab": {}
      },
      "source": [
        "import numpy as np\n",
        "import matplotlib.pyplot as plt"
      ],
      "execution_count": 38,
      "outputs": []
    },
    {
      "cell_type": "code",
      "metadata": {
        "id": "LmZCFqQT1tyn",
        "colab_type": "code",
        "colab": {}
      },
      "source": [
        "#dataset\n",
        "\n",
        "#n = 200;\n",
        "#x = 3 * (rand(n, 4) - 0.5);\n",
        "#y = (2 * x(:, 1) - 1 * x(:,2) + 0.5 + 0.5 * randn(n, 1)) > 0;     A(:,n) は、行列 A の n 番目の列です。\n",
        "#y = 2 * y -1;\n",
        "\n",
        "\n",
        "\n",
        "n = 200\n",
        "x = 3 * (np.random.rand(n, 4) - 0.5)\n",
        "x = np.hstack([x, np.ones((n, 1))])\n",
        "y = (2 * x[:, 0].reshape((n, 1)) - 1 * x[:, 1].reshape((n, 1)) + 0.5 + 0.5 * np.random.randn(n, 1)) > 0\n",
        "y = 2 * y - 1"
      ],
      "execution_count": 39,
      "outputs": []
    },
    {
      "cell_type": "markdown",
      "metadata": {
        "id": "ykToRYRI9OmM",
        "colab_type": "text"
      },
      "source": [
        " steepest gradient method "
      ]
    },
    {
      "cell_type": "code",
      "metadata": {
        "id": "mmFzGFZM3FGW",
        "colab_type": "code",
        "colab": {
          "base_uri": "https://localhost:8080/",
          "height": 125
        },
        "outputId": "04624d13-b3f0-41e0-e470-428b834d1c47"
      },
      "source": [
        "lam = 2\n",
        "alpha = 0.04\n",
        "stop = 1e-6\n",
        "\n",
        "w = np.ones((5, 1))\n",
        "step = 0\n",
        "arr_sgm = []\n",
        "\n",
        "while 1:\n",
        "    grad = 2 * lam * w\n",
        "    wTw = lam * np.dot(w.T, w)\n",
        "    for i in range(n):\n",
        "        xi = x[i].reshape(5, 1)\n",
        "        yi = y[i].reshape(1, 1)\n",
        "        Xin = -y[i]*x[i].reshape(5, 1)\n",
        "        exp = np.exp(-yi * np.dot(w.T, xi))\n",
        "        grad += -exp/(1 + exp)*xi*yi\n",
        "        wTw += np.log(1 + exp)\n",
        "    w -= grad * alpha\n",
        "    arr_sgm.append(wTw.item())#スカラーに\n",
        "    step += 1\n",
        "    if np.linalg.norm(grad) < stop:\n",
        "        break\n",
        "print(\"step:\",end=\"\")\n",
        "print(step)\n",
        "print(w)"
      ],
      "execution_count": 40,
      "outputs": [
        {
          "output_type": "stream",
          "text": [
            "step:27\n",
            "[[ 2.51712705]\n",
            " [-0.87214098]\n",
            " [ 0.0828842 ]\n",
            " [-0.02717092]\n",
            " [ 0.32878593]]\n"
          ],
          "name": "stdout"
        }
      ]
    },
    {
      "cell_type": "markdown",
      "metadata": {
        "id": "TL4_koiA01zH",
        "colab_type": "text"
      },
      "source": [
        "newton method"
      ]
    },
    {
      "cell_type": "code",
      "metadata": {
        "id": "F3drpDXcDMAd",
        "colab_type": "code",
        "colab": {
          "base_uri": "https://localhost:8080/",
          "height": 125
        },
        "outputId": "ced72e32-3b9b-46f4-9a85-0679b913525d"
      },
      "source": [
        "w = np.ones((5, 1))\n",
        "step = 0\n",
        "arr_newton = []\n",
        "while 1:\n",
        "    grad = 2 * lam * w\n",
        "    hessian = 2 * lam * np.eye(5)\n",
        "    wTw = lam * np.dot(w.T, w)\n",
        "    for i in range(n):\n",
        "        xi = x[i].reshape(5, 1)\n",
        "        yi = y[i].reshape(1, 1)\n",
        "        exp = np.exp(-yi * np.dot(w.T, xi))\n",
        "        pi = 1/(1+exp)\n",
        "        grad += -exp/(1 + exp)*xi*yi\n",
        "        hessian += pi*(1-pi)*np.dot(xi, xi.T) * yi**2\n",
        "        wTw += np.log(1 + exp)\n",
        "    d = -np.dot(np.linalg.inv(hessian), grad)\n",
        "    w = w + d\n",
        "    arr_newton.append(wTw.item())\n",
        "    step += 1\n",
        "    if np.linalg.norm(d) < stop:\n",
        "        break\n",
        "print(\"step:\",end=\"\")\n",
        "print(step)\n",
        "print(w)"
      ],
      "execution_count": 41,
      "outputs": [
        {
          "output_type": "stream",
          "text": [
            "step:7\n",
            "[[ 2.51712701]\n",
            " [-0.87214096]\n",
            " [ 0.08288419]\n",
            " [-0.02717092]\n",
            " [ 0.32878592]]\n"
          ],
          "name": "stdout"
        }
      ]
    },
    {
      "cell_type": "code",
      "metadata": {
        "id": "FTNbmDuMpBM3",
        "colab_type": "code",
        "colab": {
          "base_uri": "https://localhost:8080/",
          "height": 297
        },
        "outputId": "f135cd8f-e375-4e57-ddff-5e1f980b5d1a"
      },
      "source": [
        "plt.yscale('log')\n",
        "plt.xlabel('t')\n",
        "plt.ylabel('|J(w(t) ) − J(wˆ)| ')\n",
        "\n",
        "tmp1 = arr_sgm[len(arr_sgm)-1]\n",
        "arr_sgm -= tmp1*np.ones((len(arr_sgm)))\n",
        "arr_sgm = np.delete(arr_sgm,len(arr_sgm)-1)\n",
        "plt.plot(np.arange(0, len(arr_sgm), 1), arr_sgm,marker=\"o\",label=\"steepest gradient method\")\n",
        "\n",
        "tmp2 = arr_newton[len(arr_newton)-1]\n",
        "arr_newton -= tmp2*np.ones((len(arr_newton)))\n",
        "arr_newton = np.delete(arr_newton,len(arr_newton)-1)\n",
        "plt.plot(np.arange(0, len(arr_newton), 1), arr_newton,marker=\"o\",label=\"newton method\")\n",
        "plt.xlim(0, 25)\n",
        "plt.legend()"
      ],
      "execution_count": 42,
      "outputs": [
        {
          "output_type": "execute_result",
          "data": {
            "text/plain": [
              "<matplotlib.legend.Legend at 0x7f438d629da0>"
            ]
          },
          "metadata": {
            "tags": []
          },
          "execution_count": 42
        },
        {
          "output_type": "display_data",
          "data": {
            "image/png": "[encoded data removed]",
            "text/plain": [
              "<Figure size 432x288 with 1 Axes>"
            ]
          },
          "metadata": {
            "tags": [],
            "needs_background": "light"
          }
        }
      ]
    },
    {
      "cell_type": "code",
      "metadata": {
        "id": "yverBhb93emc",
        "colab_type": "code",
        "colab": {}
      },
      "source": [
        ""
      ],
      "execution_count": null,
      "outputs": []
    }
  ]
}