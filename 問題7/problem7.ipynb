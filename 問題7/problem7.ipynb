{
  "nbformat": 4,
  "nbformat_minor": 0,
  "metadata": {
    "colab": {
      "name": "problem7.ipynb",
      "provenance": [],
      "authorship_tag": "ABX9TyPaQ/hEVMaVYqwiEZYESZLk",
      "include_colab_link": true
    },
    "kernelspec": {
      "name": "python3",
      "display_name": "Python 3"
    }
  },
  "cells": [
    {
      "cell_type": "markdown",
      "metadata": {
        "id": "view-in-github",
        "colab_type": "text"
      },
      "source": [
        "<a href=\"https://colab.research.google.com/github/akipips/simosaka_final/blob/master/%E5%95%8F%E9%A1%8C7/problem7.ipynb\" target=\"_parent\"><img src=\"https://colab.research.google.com/assets/colab-badge.svg\" alt=\"Open In Colab\"/></a>"
      ]
    },
    {
      "cell_type": "code",
      "metadata": {
        "id": "L6s2rhFxJ6jo",
        "colab_type": "code",
        "colab": {}
      },
      "source": [
        "import numpy as np\n",
        "import matplotlib.pyplot as plt"
      ],
      "execution_count": 29,
      "outputs": []
    },
    {
      "cell_type": "code",
      "metadata": {
        "id": "LfVUZpfNM5Af",
        "colab_type": "code",
        "colab": {}
      },
      "source": [
        "def st_ops(mu, q):\n",
        "  x_proj = np.zeros(mu.shape)\n",
        "  for i in range(len(mu)):\n",
        "    if mu[i] > q:\n",
        "      x_proj[i] = mu[i] - q\n",
        "    else:\n",
        "      if np.abs(mu[i]) < q:\n",
        "        x_proj[i] = 0\n",
        "      else:\n",
        "        x_proj[i] = mu[i] + q\n",
        "  return x_proj"
      ],
      "execution_count": 30,
      "outputs": []
    },
    {
      "cell_type": "markdown",
      "metadata": {
        "id": "YZDMAsfnP3Wj",
        "colab_type": "text"
      },
      "source": [
        "Adam"
      ]
    },
    {
      "cell_type": "code",
      "metadata": {
        "id": "_q_AUXyeM7sc",
        "colab_type": "code",
        "colab": {}
      },
      "source": [
        "def Adam():\n",
        "    x_1 = np.arange(-1.5, 3, 0.01)\n",
        "    x_2 = np.arange(-1.5, 3, 0.02)\n",
        "\n",
        "    fValue = np.zeros((len(x_1), len(x_2)))\n",
        "\n",
        "    A = np.array([[250, 15],\n",
        "                  [15, 4]])\n",
        "    mu = np.array([[1],\n",
        "                   [2]])\n",
        "    lam = 0.89\n",
        "\n",
        "    for i in range(len(x_1)):\n",
        "        for j in range(len(x_2)):\n",
        "            inr = np.vstack([x_1[i], x_2[j]])\n",
        "            fValue[i, j] = np.dot(np.dot((inr - mu).T, A), (inr - mu)) + lam * (np.abs(x_1[i]) + np.abs(x_2[j]))\n",
        "\n",
        "    x_init = np.array([[3],\n",
        "                       [-1]])\n",
        "    xt = x_init\n",
        "\n",
        "    x_history = []\n",
        "    g_history = []\n",
        "    fvalues = []\n",
        "\n",
        "    b1 = 0.7\n",
        "    b2 = 0.99999\n",
        "    ee = 1.0e-8\n",
        "    aa = 0.2\n",
        "    mm = np.zeros((2, 1))\n",
        "    vv = np.zeros((2, 1))\n",
        "\n",
        "    for t in range(1, 101):\n",
        "        x_history.append(xt.T)\n",
        "        grad = 2 * np.dot(A, xt - mu)\n",
        "\n",
        "        mm = b1 * mm + (1 - b1) * grad\n",
        "        vv = b2 * vv + (1 - b2) * (grad * grad)\n",
        "\n",
        "        mmHat = mm / (1 - b1 ** t)\n",
        "        vvHat = vv / (1 - b2 ** t)\n",
        "\n",
        "        g_history.append(grad.T)\n",
        "\n",
        "        rateProx = aa * np.ones((2, 1)) / (np.sqrt(vvHat) + ee)\n",
        "\n",
        "        xth = xt - mmHat * rateProx\n",
        "\n",
        "        xt = np.array([st_ops(xth[0], lam * rateProx[0]),\n",
        "                       st_ops(xth[1], lam * rateProx[1])])\n",
        "\n",
        "        fv = np.dot(np.dot((xt - mu).T, A), (xt - mu)) + lam * (np.abs(xt[0]) + np.abs(xt[1]))\n",
        "        fvalues.append(fv)\n",
        "\n",
        "    x_history = np.vstack(x_history)\n",
        "    fvalues = np.vstack(fvalues)\n",
        "    fvalues = fvalues.flatten()\n",
        "    fvalues -= fvalues[len(fvalues)-1]\n",
        "    fvalues = np.delete(fvalues, len(fvalues) - 1)\n",
        "    return fvalues"
      ],
      "execution_count": 31,
      "outputs": []
    },
    {
      "cell_type": "markdown",
      "metadata": {
        "id": "wwYQACoNgZyr",
        "colab_type": "text"
      },
      "source": [
        "Adagrad"
      ]
    },
    {
      "cell_type": "code",
      "metadata": {
        "id": "dH8fObCROSzm",
        "colab_type": "code",
        "colab": {}
      },
      "source": [
        "def Adagrad():\n",
        "    x_1 = np.arange(-1.5, 3, 0.01)\n",
        "    x_2 = np.arange(-1.5, 3, 0.02)\n",
        "\n",
        "    fValue = np.zeros((len(x_1), len(x_2)))\n",
        "\n",
        "    A = np.array([[250, 15],\n",
        "                  [15, 4]])\n",
        "    mu = np.array([[1],\n",
        "                   [2]])\n",
        "    lam = 0.89\n",
        "\n",
        "    for i in range(len(x_1)):\n",
        "        for j in range(len(x_2)):\n",
        "            inr = np.vstack([x_1[i], x_2[j]])\n",
        "            fValue[i, j] = np.dot(np.dot((inr - mu).T, A), (inr - mu)) + lam * (np.abs(x_1[i]) + np.abs(x_2[j]))\n",
        "\n",
        "    x_init = np.array([[3],\n",
        "                       [-1]])\n",
        "    xt = x_init\n",
        "    L = 1.01 * np.max(np.linalg.eig(2 * A)[0])\n",
        "    eta0 = 300 / L\n",
        "  \n",
        "    x_history = []\n",
        "    g_history = []\n",
        "    fvalues = []\n",
        "\n",
        "    delta = 0.02\n",
        "\n",
        "    for t in range(100):\n",
        "        x_history.append(xt.T)\n",
        "        grad = 2 * np.dot(A, xt - mu)\n",
        "\n",
        "        g_history.append(grad.flatten().tolist())\n",
        "        ht = np.sqrt(np.sum(np.array(g_history) ** 2, axis=0).T) + delta\n",
        "        ht = ht.reshape(2, 1)\n",
        "\n",
        "        eta_t = eta0\n",
        "        xth = xt - eta_t * (ht ** -1 * grad)\n",
        "        ht_inv = ht ** -1\n",
        "        xt = np.array([st_ops(xth[0], lam * eta_t * ht_inv[0]),\n",
        "                       st_ops(xth[1], lam * eta_t * ht_inv[1])])\n",
        "\n",
        "        fv = np.dot(np.dot((xt - mu).T, A), (xt - mu)) + lam * (np.abs(xt[0]) + np.abs(xt[1]))\n",
        "        fvalues.append(fv)\n",
        "\n",
        "    x_history = np.vstack(x_history)\n",
        "    fvalues = np.vstack(fvalues)\n",
        "\n",
        "    fvalues = fvalues.flatten()\n",
        "    fvalues -= fvalues[len(fvalues) - 1]\n",
        "    fvalues = np.delete(fvalues, len(fvalues) - 1)\n",
        "\n",
        "    return fvalues"
      ],
      "execution_count": 32,
      "outputs": []
    },
    {
      "cell_type": "markdown",
      "metadata": {
        "id": "jLtxWliMgzCU",
        "colab_type": "text"
      },
      "source": [
        "RMSProp\n"
      ]
    },
    {
      "cell_type": "code",
      "metadata": {
        "id": "h1c3DCKYgylR",
        "colab_type": "code",
        "colab": {}
      },
      "source": [
        "def RMSProp():\n",
        "    x_1 = np.arange(-1.5, 3, 0.01)\n",
        "    x_2 = np.arange(-1.5, 3, 0.02)\n",
        "\n",
        "    fValue = np.zeros((len(x_1), len(x_2)))\n",
        "\n",
        "    A = np.array([[250, 15],\n",
        "                  [15, 4]])\n",
        "    mu = np.array([[1],\n",
        "                   [2]])\n",
        "    lam = 0.89\n",
        "\n",
        "    for i in range(len(x_1)):\n",
        "        for j in range(len(x_2)):\n",
        "            inr = np.vstack([x_1[i], x_2[j]])\n",
        "            fValue[i, j] = np.dot(np.dot((inr - mu).T, A), (inr - mu)) + lam * (np.abs(x_1[i]) + np.abs(x_2[j]))\n",
        "\n",
        "    x_init = np.array([[3],\n",
        "                       [-1]])\n",
        "    xt = x_init\n",
        "\n",
        "    x_history = []\n",
        "    g_history = []\n",
        "    fvalues = []\n",
        "\n",
        "    hh = np.zeros((2, 1))\n",
        "    ler = 0.1\n",
        "    alpha = 0.95\n",
        "\n",
        "    for t in range(1, 101):\n",
        "        x_history.append(xt.T)\n",
        "        grad = 2 * np.dot(A, xt - mu)\n",
        "\n",
        "        hh = alpha * hh + (1-alpha) * (grad*grad)\n",
        "        g_history.append(grad.T)\n",
        "        tmpler = ler/(np.sqrt(hh)+1e-6)\n",
        "        xth = xt - grad * tmpler\n",
        "\n",
        "        xt = np.array([st_ops(xth[0], lam * tmpler[0]),\n",
        "                       st_ops(xth[1], lam * tmpler[1])])\n",
        "\n",
        "        fv = np.dot(np.dot((xt - mu).T, A), (xt - mu)) + lam * (np.abs(xt[0]) + np.abs(xt[1]))\n",
        "        fvalues.append(fv)\n",
        "\n",
        "    x_history = np.vstack(x_history)\n",
        "    fvalues = np.vstack(fvalues)\n",
        "\n",
        "    fvalues = fvalues.flatten()\n",
        "    fvalues -= fvalues[len(fvalues) - 1]\n",
        "    fvalues = np.delete(fvalues, len(fvalues) - 1)\n",
        "\n",
        "    return fvalues"
      ],
      "execution_count": 33,
      "outputs": []
    },
    {
      "cell_type": "markdown",
      "metadata": {
        "id": "zUQ_AaHxjQhd",
        "colab_type": "text"
      },
      "source": [
        "AdaDelta\n"
      ]
    },
    {
      "cell_type": "code",
      "metadata": {
        "id": "1-lEsTRdkInO",
        "colab_type": "code",
        "colab": {}
      },
      "source": [
        "def AdaDelta():\n",
        "    x_1 = np.arange(-1.5, 3, 0.01)\n",
        "    x_2 = np.arange(-1.5, 3, 0.02)\n",
        "\n",
        "    fValue = np.zeros((len(x_1), len(x_2)))\n",
        "\n",
        "    A = np.array([[250, 15],\n",
        "                  [15, 4]])\n",
        "    mu = np.array([[1],\n",
        "                   [2]])\n",
        "    lam = 0.89\n",
        "\n",
        "    for i in range(len(x_1)):\n",
        "        for j in range(len(x_2)):\n",
        "            inr = np.vstack([x_1[i], x_2[j]])\n",
        "            fValue[i, j] = np.dot(np.dot((inr - mu).T, A), (inr - mu)) + lam * (np.abs(x_1[i]) + np.abs(x_2[j]))\n",
        "\n",
        "\n",
        "    x_init = np.array([[3],\n",
        "                       [-1]])\n",
        "    xt = x_init\n",
        "\n",
        "    lo = 0.99999\n",
        "    eps = 1e-6\n",
        "\n",
        "    x_history = []\n",
        "    fvalues = []\n",
        "\n",
        "    hh = np.zeros((2, 1))\n",
        "    ss = np.zeros((2, 1))\n",
        "\n",
        "    for t in range(1, 101):\n",
        "        x_history.append(xt.T)\n",
        "\n",
        "        grad = 2 * np.dot(A, xt - mu)\n",
        "\n",
        "        hh = lo * hh + (1-lo) * grad**2\n",
        "        rateProx = np.sqrt((ss + eps)/(hh + eps))\n",
        "        vv = rateProx * grad\n",
        "        ss = lo * ss + (1-lo) * vv**2\n",
        "\n",
        "        xth = xt - vv\n",
        "\n",
        "        xt = np.array([st_ops(xth[0], lam * rateProx[0]),\n",
        "                       st_ops(xth[1], lam * rateProx[1])])\n",
        "\n",
        "        fv = np.dot(np.dot((xt - mu).T, A), (xt - mu)) + lam * (np.abs(xt[0]) + np.abs(xt[1]))\n",
        "        fvalues.append(fv)\n",
        "\n",
        "    x_history = np.vstack(x_history)\n",
        "    fvalues = np.vstack(fvalues)\n",
        "\n",
        "    fvalues = fvalues.flatten()\n",
        "    fvalues -= fvalues[len(fvalues) - 1]\n",
        "    fvalues = np.delete(fvalues, len(fvalues) - 1)\n",
        "\n",
        "    return fvalues"
      ],
      "execution_count": 34,
      "outputs": []
    },
    {
      "cell_type": "markdown",
      "metadata": {
        "id": "8uauuaIFk0Ll",
        "colab_type": "text"
      },
      "source": [
        "Nadam\n"
      ]
    },
    {
      "cell_type": "code",
      "metadata": {
        "id": "RKVyUtjMmepO",
        "colab_type": "code",
        "colab": {}
      },
      "source": [
        "def Nadam():\n",
        "    A = np.array([[250, 15],\n",
        "                  [15, 4]])\n",
        "    mu = np.array([[1],\n",
        "                   [2]])\n",
        "    lam = 0.89\n",
        "\n",
        "    x_init = np.array([[3],\n",
        "                       [-1]])\n",
        "    xt = x_init\n",
        "\n",
        "    x_history = []\n",
        "    fvalues = []\n",
        "    m_t = np.zeros((2, 1))\n",
        "    v_t = np.zeros((2, 1))\n",
        "    mu_p = 0.5\n",
        "    eps = 1e-16\n",
        "    ups = 0.99999\n",
        "    lr = 0.2\n",
        "\n",
        "    for t in range(1, 101):\n",
        "        x_history.append(xt.T)\n",
        "\n",
        "        g_t = 2 * np.dot(A, xt - mu)\n",
        "        mu_t = mu_p * (1 - mu_p ** (t - 1)) / (1 - mu_p ** t)\n",
        "        mu_tp1 = mu_p * (1 - mu_p ** t) / (1 - mu_p ** (t + 1))\n",
        "        ups_t = ups * (1 - ups ** (t - 1)) / (1 - ups ** t)\n",
        "        m_t = mu_t * m_t + (1 - mu_t) * g_t\n",
        "        mbar_t = mu_tp1 * m_t + (1 - mu_t) * g_t\n",
        "        v_t = ups_t * v_t + (1 - ups_t) * g_t ** 2\n",
        "\n",
        "        vbar_t = np.sqrt(v_t) + eps\n",
        "\n",
        "        s_t = lr * mbar_t / vbar_t\n",
        "        rateProx = lr / vbar_t\n",
        "        xth = xt - s_t\n",
        "\n",
        "        xt = np.array([st_ops(xth[0], lam * rateProx[0]),\n",
        "                       st_ops(xth[1], lam * rateProx[1])])\n",
        "\n",
        "        fv = np.dot(np.dot((xt - mu).T, A), (xt - mu)) + lam * (np.abs(xt[0]) + np.abs(xt[1]))\n",
        "        fvalues.append(fv)\n",
        "\n",
        "    x_history = np.vstack(x_history)\n",
        "    fvalues = np.vstack(fvalues)\n",
        "\n",
        "    fvalues = fvalues.flatten()\n",
        "    fvalues -= fvalues[len(fvalues) - 1]\n",
        "    fvalues = np.delete(fvalues, len(fvalues) - 1)\n",
        "\n",
        "    return fvalues"
      ],
      "execution_count": 35,
      "outputs": []
    },
    {
      "cell_type": "markdown",
      "metadata": {
        "id": "ccUtzn75ncma",
        "colab_type": "text"
      },
      "source": [
        "実装終了"
      ]
    },
    {
      "cell_type": "code",
      "metadata": {
        "id": "_tf0qWJ3niy_",
        "colab_type": "code",
        "colab": {
          "base_uri": "https://localhost:8080/",
          "height": 297
        },
        "outputId": "095c094f-1512-448c-95de-84500f02175e"
      },
      "source": [
        "#(3)比較\n",
        "\n",
        "plt.semilogy(Adam(), markersize=0.5, label='Adam')\n",
        "plt.semilogy(Adagrad(), markersize=0.5,label='Adagrad')\n",
        "plt.semilogy(RMSProp(), markersize=0.5,label='RMSProp')\n",
        "plt.semilogy(AdaDelta(), markersize=0.5,label='AdaDelta')\n",
        "plt.semilogy(Nadam(),  markersize=0.5, label='Nadam')\n",
        "plt.xlabel(\"t\")\n",
        "plt.ylabel(\"loss\")\n",
        "plt.legend()"
      ],
      "execution_count": 36,
      "outputs": [
        {
          "output_type": "execute_result",
          "data": {
            "text/plain": [
              "<matplotlib.legend.Legend at 0x7f6012308a58>"
            ]
          },
          "metadata": {
            "tags": []
          },
          "execution_count": 36
        },
        {
          "output_type": "display_data",
          "data": {
            "image/png": "[encoded data removed]",
            "text/plain": [
              "<Figure size 432x288 with 1 Axes>"
            ]
          },
          "metadata": {
            "tags": [],
            "needs_background": "light"
          }
        }
      ]
    }
  ]
}